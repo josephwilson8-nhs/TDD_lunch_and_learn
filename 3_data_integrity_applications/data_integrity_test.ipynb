{
 "cells": [
  {
   "cell_type": "markdown",
   "metadata": {},
   "source": [
    "# Data Integrity Tests"
   ]
  },
  {
   "cell_type": "code",
   "execution_count": 30,
   "metadata": {},
   "outputs": [],
   "source": [
    "import pandas as pd\n",
    "import numpy as np\n",
    "import pytest\n",
    "import ipytest\n",
    "import re\n",
    "from datetime import datetime"
   ]
  },
  {
   "cell_type": "code",
   "execution_count": 15,
   "metadata": {},
   "outputs": [],
   "source": [
    "ipytest.autoconfig(addopts=[\"--color=yes\"])"
   ]
  },
  {
   "cell_type": "markdown",
   "metadata": {},
   "source": [
    "## Using PyTest in a Jupyter Notebook\n",
    "Pytest is designed to run tests in .py files which can cause issues when you want to test in a notebook. Normally, this is a good thing, however, in the edge case we are working in, we want to be using a notebook."
   ]
  },
  {
   "cell_type": "code",
   "execution_count": 17,
   "metadata": {},
   "outputs": [
    {
     "name": "stdout",
     "output_type": "stream",
     "text": [
      "\u001b[1m======================================= test session starts ========================================\u001b[0m\n",
      "platform linux -- Python 3.8.10, pytest-7.1.2, pluggy-1.0.0\n",
      "rootdir: /home/jowi60/TDD_lunch_and_learn/3_data_integrity_applications\n",
      "collected 2 items\n",
      "\n",
      "tmptg04i9w0.py \u001b[32m.\u001b[0m\u001b[31mF\u001b[0m\u001b[31m                                                                            [100%]\u001b[0m\n",
      "\n",
      "============================================= FAILURES =============================================\n",
      "\u001b[31m\u001b[1m____________________________________________ test_fail _____________________________________________\u001b[0m\n",
      "\n",
      "    \u001b[94mdef\u001b[39;49;00m \u001b[92mtest_fail\u001b[39;49;00m():\n",
      ">       \u001b[94massert\u001b[39;49;00m \u001b[94mFalse\u001b[39;49;00m\n",
      "\u001b[1m\u001b[31mE       assert False\u001b[0m\n",
      "\n",
      "\u001b[1m\u001b[31m/tmp/ipykernel_9217/3225759524.py\u001b[0m:5: AssertionError\n",
      "===================================== short test summary info ======================================\n",
      "FAILED tmptg04i9w0.py::test_fail - assert False\n",
      "\u001b[31m=================================== \u001b[31m\u001b[1m1 failed\u001b[0m, \u001b[32m1 passed\u001b[0m\u001b[31m in 0.02s\u001b[0m\u001b[31m ====================================\u001b[0m\n"
     ]
    }
   ],
   "source": [
    "%%ipytest\n",
    "\n",
    "def test_test():\n",
    "    assert True\n",
    "\n",
    "def test_fail():\n",
    "    assert False"
   ]
  },
  {
   "cell_type": "code",
   "execution_count": 18,
   "metadata": {},
   "outputs": [
    {
     "name": "stdout",
     "output_type": "stream",
     "text": [
      "\u001b[1m======================================= test session starts ========================================\u001b[0m\n",
      "platform linux -- Python 3.8.10, pytest-7.1.2, pluggy-1.0.0\n",
      "rootdir: /home/jowi60/TDD_lunch_and_learn/3_data_integrity_applications\n",
      "collected 2 items\n",
      "\n",
      "tmpmppy641a.py \u001b[32m.\u001b[0m\u001b[31mF\u001b[0m\u001b[31m                                                                            [100%]\u001b[0m\n",
      "\n",
      "============================================= FAILURES =============================================\n",
      "\u001b[31m\u001b[1m____________________________________________ test_fail _____________________________________________\u001b[0m\n",
      "\n",
      "    \u001b[94mdef\u001b[39;49;00m \u001b[92mtest_fail\u001b[39;49;00m():\n",
      ">       \u001b[94massert\u001b[39;49;00m \u001b[94mFalse\u001b[39;49;00m\n",
      "\u001b[1m\u001b[31mE       assert False\u001b[0m\n",
      "\n",
      "\u001b[1m\u001b[31m/tmp/ipykernel_9217/3225759524.py\u001b[0m:5: AssertionError\n",
      "===================================== short test summary info ======================================\n",
      "FAILED tmpmppy641a.py::test_fail - assert False\n",
      "\u001b[31m=================================== \u001b[31m\u001b[1m1 failed\u001b[0m, \u001b[32m1 passed\u001b[0m\u001b[31m in 0.02s\u001b[0m\u001b[31m ====================================\u001b[0m\n"
     ]
    },
    {
     "data": {
      "text/plain": [
       "<ExitCode.TESTS_FAILED: 1>"
      ]
     },
     "execution_count": 18,
     "metadata": {},
     "output_type": "execute_result"
    }
   ],
   "source": [
    "ipytest.run()"
   ]
  },
  {
   "cell_type": "markdown",
   "metadata": {},
   "source": [
    "## Testing Dataframes\n",
    "\n",
    "We are going to test this dummy dataset of gp appointment figures. We are expecting the dataset to fit several characteristics which we will test for. The columns we expect in the dataset are:\n",
    "* practice_name: [str] Must be one of Northern Wellness, East End Doctors, West Park Practice, and Southern Health. There is an invalid practice_name included \n",
    "* practice_post_code: [str] Must be a postcode of a valid format. One practice is missing the second letter of the unit postcode.\n",
    "* date: [datetime] Must unique for each practice. East End Doctors has two entries for the same date.\n",
    "* number_of_appointments: [int] Must be positive. Southern Health has a negative value. All values are the wrong datatype.\n",
    "* evil: [bool] Must be true or false and is required (no null values). West Park Practice is missing the value."
   ]
  },
  {
   "cell_type": "code",
   "execution_count": 41,
   "metadata": {},
   "outputs": [
    {
     "data": {
      "text/plain": [
       "{'practice_name': dtype('O'),\n",
       " 'practice_post_code': dtype('O'),\n",
       " 'date': dtype('<M8[ns]'),\n",
       " 'number_of_appointments': dtype('O'),\n",
       " 'evil': dtype('O')}"
      ]
     },
     "execution_count": 41,
     "metadata": {},
     "output_type": "execute_result"
    }
   ],
   "source": [
    "gp_appointments_dict = [\n",
    "    {\n",
    "        \"practice_name\": \"Northern Wellness\",\n",
    "        \"practice_post_code\": \"NW01 1AB\",\n",
    "        \"date\": datetime(2022,1,1),\n",
    "        \"number_of_appointments\": \"900\",\n",
    "        \"evil\": False\n",
    "    },\n",
    "    {\n",
    "        \"practice_name\": \"Northern Wellness\",\n",
    "        \"practice_post_code\": \"NW01 1AB\",\n",
    "        \"date\": datetime(2022,1,2),\n",
    "        \"number_of_appointments\": \"1000\",\n",
    "        \"evil\": False\n",
    "    },\n",
    "    {\n",
    "        \"practice_name\": \"East End Doctors\",\n",
    "        \"practice_post_code\": \"EE02 2AB\",\n",
    "        \"date\": datetime(2022,1,1),\n",
    "        \"number_of_appointments\": \"100\",\n",
    "        \"evil\": False\n",
    "    },\n",
    "    {\n",
    "        \"practice_name\": \"East End Doctors\",\n",
    "        \"practice_post_code\": \"EE02 2AB\",\n",
    "        \"date\": datetime(2022,1,1),\n",
    "        \"number_of_appointments\": \"100\",\n",
    "        \"evil\": False\n",
    "    },\n",
    "    {\n",
    "        \"practice_name\": \"West Park Practice\",\n",
    "        \"practice_post_code\": \"WP01 1A\",\n",
    "        \"date\": datetime(2022,1,1),\n",
    "        \"number_of_appointments\": \"100000\"\n",
    "    },\n",
    "    {\n",
    "        \"practice_name\": \"Southern Health\",\n",
    "        \"practice_post_code\": \"S01 1AB\",\n",
    "        \"date\": datetime(2022,1,1),\n",
    "        \"number_of_appointments\": \"-100\",\n",
    "        \"evil\": False\n",
    "    },\n",
    "    {\n",
    "        \"practice_name\": \"Snake Oil Cures\",\n",
    "        \"practice_post_code\": \"B01 1AD\",\n",
    "        \"date\": datetime(2022,1,1),\n",
    "        \"number_of_appointments\": \"1000000\",\n",
    "        \"evil\": True\n",
    "    },\n",
    "]\n",
    "\n",
    "df_gp_appointments = pd.DataFrame(gp_appointments_dict)\n",
    "df_gp_appointments.dtypes.to_dict()"
   ]
  },
  {
   "cell_type": "code",
   "execution_count": 38,
   "metadata": {},
   "outputs": [],
   "source": [
    "expected_schema = {\n",
    "        \"practice_name\": np.dtype('O'),\n",
    "        \"practice_post_code\": np.dtype('O'),\n",
    "        \"date\": datetime,\n",
    "        \"number_of_appointments\": np.int64,\n",
    "        \"evil\": bool\n",
    "    }\n",
    "\n",
    "expected_dims = (7,5)"
   ]
  },
  {
   "cell_type": "code",
   "execution_count": null,
   "metadata": {},
   "outputs": [],
   "source": [
    "expected_practice_names = [\n",
    "    'Northern Wellness', \n",
    "    'East End Doctors', \n",
    "    'West Park Practice', \n",
    "    'Southern Health'\n",
    "]"
   ]
  },
  {
   "cell_type": "code",
   "execution_count": null,
   "metadata": {},
   "outputs": [],
   "source": [
    "expected_postcode_regex = r'^(((([A-Z][A-Z]{0,1})[0-9][A-Z0-9]{0,1}) {0,}[0-9])[A-Z]{2})$'"
   ]
  },
  {
   "cell_type": "markdown",
   "metadata": {},
   "source": [
    "# "
   ]
  }
 ],
 "metadata": {
  "interpreter": {
   "hash": "da06b30beef15a4b0416a58d327e74079b2e178024140331fcb6190879c218fa"
  },
  "kernelspec": {
   "display_name": "Python 3.8.10 ('pytest_venv': venv)",
   "language": "python",
   "name": "python3"
  },
  "language_info": {
   "codemirror_mode": {
    "name": "ipython",
    "version": 3
   },
   "file_extension": ".py",
   "mimetype": "text/x-python",
   "name": "python",
   "nbconvert_exporter": "python",
   "pygments_lexer": "ipython3",
   "version": "3.8.10"
  },
  "orig_nbformat": 4
 },
 "nbformat": 4,
 "nbformat_minor": 2
}
